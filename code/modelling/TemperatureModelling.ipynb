{
 "cells": [
  {
   "cell_type": "markdown",
   "id": "fb41c7ce-e542-4c8c-b076-bc0f8ad82847",
   "metadata": {},
   "source": [
    "### Modelling to Predict the temperture using seasonal trends"
   ]
  },
  {
   "cell_type": "code",
   "execution_count": 4,
   "id": "7de48c20-526e-40fe-9497-7ba770881bff",
   "metadata": {},
   "outputs": [],
   "source": [
    "import pandas as pd\n",
    "import numpy as np\n",
    "from sklearn.model_selection import train_test_split\n",
    "from sklearn.linear_model import LinearRegression\n",
    "from sklearn.metrics import mean_absolute_error, mean_squared_error\n",
    "import matplotlib.pyplot as plt\n",
    "\n",
    "df = pd.read_csv('../data/df_global.csv')\n",
    "\n",
    "df['dt'] = pd.to_datetime(df['dt'])\n",
    "df['Year'] = df['dt'].dt.year\n",
    "df['Month'] = df['dt'].dt.month\n",
    "df['Day'] = df['dt'].dt.day\n",
    "\n",
    "features = ['Year', 'Month', 'Day']\n",
    "target = 'LandAndOceanAverageTemperature'\n",
    "\n",
    "df = df.dropna(subset=[target])\n",
    "\n",
    "X = df[features]\n",
    "y = df[target]\n",
    "\n",
    "X_train, X_test, y_train, y_test = train_test_split(X, y, test_size=0.2, random_state=42)"
   ]
  },
  {
   "cell_type": "code",
   "execution_count": 5,
   "id": "0d378926-d04f-4476-88ff-f9f71900d7ec",
   "metadata": {},
   "outputs": [
    {
     "name": "stdout",
     "output_type": "stream",
     "text": [
      "SVR MAE: 0.0942397550816539\n",
      "SVR RMSE: 0.12280206175696354\n"
     ]
    }
   ],
   "source": [
    "from sklearn.svm import SVR\n",
    "\n",
    "svr_model = SVR(kernel='rbf', C=100, gamma=0.1)\n",
    "svr_model.fit(X_train, y_train)\n",
    "\n",
    "y_pred_svr = svr_model.predict(X_test)\n",
    "\n",
    "mae_svr = mean_absolute_error(y_test, y_pred_svr)\n",
    "rmse_svr = np.sqrt(mean_squared_error(y_test, y_pred_svr))\n",
    "print(f\"SVR MAE: {mae_svr}\")\n",
    "print(f\"SVR RMSE: {rmse_svr}\")"
   ]
  },
  {
   "cell_type": "code",
   "execution_count": 8,
   "id": "0320b74f-250f-43bd-beb1-5b06bd772354",
   "metadata": {},
   "outputs": [
    {
     "name": "stdout",
     "output_type": "stream",
     "text": [
      "Plot saved as ../images/svr_temperature_predictions.png\n"
     ]
    }
   ],
   "source": [
    "import matplotlib.pyplot as plt\n",
    "\n",
    "plt.figure(figsize=(12, 6))\n",
    "\n",
    "sorted_indices = np.argsort(X_test['Year'])\n",
    "X_test_sorted = X_test.iloc[sorted_indices]\n",
    "y_test_sorted = y_test.iloc[sorted_indices]\n",
    "y_pred_svr_sorted = y_pred_svr[sorted_indices]\n",
    "\n",
    "plt.plot(y_test_sorted.index, y_test_sorted, label=\"Actual Temperatures\", color=\"blue\", linewidth=2)\n",
    "plt.plot(y_test_sorted.index, y_pred_svr_sorted, label=\"Predicted Temperatures (SVR)\", color=\"red\", linestyle=\"--\", linewidth=2)\n",
    "\n",
    "plt.xlabel(\"Test Data Index\")\n",
    "plt.ylabel(\"Temperature (°C)\")\n",
    "plt.title(\"Actual vs Predicted Temperatures (SVR)\")\n",
    "plt.legend()\n",
    "plt.grid(True)\n",
    "\n",
    "plot_filepath = \"../images/svr_temperature_predictions.png\"\n",
    "plt.savefig(plot_filepath, dpi=300)\n",
    "plt.close()\n",
    "print(f\"Plot saved as {plot_filepath}\")"
   ]
  },
  {
   "cell_type": "markdown",
   "id": "46b07464-6549-4c66-b064-678b40168ed7",
   "metadata": {},
   "source": [
    "### Saving the model"
   ]
  },
  {
   "cell_type": "code",
   "execution_count": 11,
   "id": "d20e8aba-9066-42c2-952d-23665ff1490d",
   "metadata": {},
   "outputs": [
    {
     "name": "stdout",
     "output_type": "stream",
     "text": [
      "Model saved as ../pages/models/svr_temperature_model.pkl\n"
     ]
    }
   ],
   "source": [
    "import pickle\n",
    "\n",
    "model_filepath = \"../pages/models/svr_temperature_model.pkl\"\n",
    "with open(model_filepath, \"wb\") as file:\n",
    "    pickle.dump(svr_model, file)\n",
    "print(f\"Model saved as {model_filepath}\")"
   ]
  },
  {
   "cell_type": "markdown",
   "id": "4f2e3baf-3849-4a09-bc3b-d06a1742fd87",
   "metadata": {},
   "source": [
    "## Other Experiments"
   ]
  },
  {
   "cell_type": "code",
   "execution_count": 41,
   "id": "70c52ab3-1bf9-4b37-928a-a784740d7136",
   "metadata": {},
   "outputs": [
    {
     "name": "stdout",
     "output_type": "stream",
     "text": [
      "                 Date  Prediction\n",
      "2013-09-01 2013-08-31   16.965890\n",
      "2013-10-01 2013-09-30   16.246837\n",
      "2013-11-01 2013-10-31   15.481653\n",
      "2013-12-01 2013-11-30   14.902552\n",
      "2014-01-01 2013-12-31   14.620066\n",
      "2014-02-01 2014-01-31   14.748052\n",
      "2014-03-01 2014-02-28   15.219209\n",
      "2014-04-01 2014-03-31   15.911292\n",
      "2014-05-01 2014-04-30   16.622218\n",
      "2014-06-01 2014-05-31   17.170198\n",
      "Predicted Temperature for 2024-12: 15.72°C\n"
     ]
    },
    {
     "name": "stderr",
     "output_type": "stream",
     "text": [
      "/Users/yashwanthys/miniconda3/envs/ids/lib/python3.12/site-packages/statsmodels/tsa/base/tsa_model.py:473: ValueWarning: No frequency information was provided, so inferred frequency MS will be used.\n",
      "  self._init_dates(dates, freq)\n",
      "/Users/yashwanthys/miniconda3/envs/ids/lib/python3.12/site-packages/statsmodels/tsa/base/tsa_model.py:473: ValueWarning: No frequency information was provided, so inferred frequency MS will be used.\n",
      "  self._init_dates(dates, freq)\n",
      "/Users/yashwanthys/miniconda3/envs/ids/lib/python3.12/site-packages/statsmodels/tsa/base/tsa_model.py:473: ValueWarning: No frequency information was provided, so inferred frequency MS will be used.\n",
      "  self._init_dates(dates, freq)\n",
      "/var/folders/p1/cl2tvfzn5g53tthk00_rbsg40000gn/T/ipykernel_5182/4083398358.py:16: FutureWarning: 'M' is deprecated and will be removed in a future version, please use 'ME' instead.\n",
      "  future_index = pd.date_range(start=y.index[-1], periods=240, freq='M')\n"
     ]
    }
   ],
   "source": [
    "import pandas as pd\n",
    "import matplotlib.pyplot as plt\n",
    "from statsmodels.tsa.arima.model import ARIMA\n",
    "\n",
    "df = pd.read_csv('../data/df_global.csv')\n",
    "df['dt'] = pd.to_datetime(df['dt'])\n",
    "df.set_index('dt', inplace=True)\n",
    "\n",
    "y = df['LandAndOceanAverageTemperature'].dropna()\n",
    "\n",
    "model = ARIMA(y, order=(5, 1, 0))\n",
    "model_fit = model.fit()\n",
    "\n",
    "forecast = model_fit.forecast(steps=240)  \n",
    "\n",
    "future_index = pd.date_range(start=y.index[-1], periods=240, freq='M')\n",
    "\n",
    "forecast_df = pd.DataFrame({'Date': future_index, 'Prediction': forecast})\n",
    "\n",
    "forecast_df['Date'] = forecast_df['Date'].dt.normalize()\n",
    "\n",
    "print(forecast_df.head(10))  \n",
    "\n",
    "forecast_df.to_csv('../pages/models/forecasted_temperatures.csv', index=False)\n",
    "\n",
    "year = 2024\n",
    "month = 12\n",
    "\n",
    "forecast_value = forecast_df.loc[\n",
    "    (forecast_df['Date'].dt.year == year) & \n",
    "    (forecast_df['Date'].dt.month == month), \n",
    "    'Prediction'\n",
    "].values\n",
    "\n",
    "if len(forecast_value) > 0:\n",
    "    print(f\"Predicted Temperature for {year}-{month:02d}: {forecast_value[0]:.2f}°C\")\n",
    "else:\n",
    "    print(f\"Date for {year}-{month:02d} not found in forecast.\")"
   ]
  },
  {
   "cell_type": "code",
   "execution_count": null,
   "id": "a23fb7d6-d065-4883-bd6b-340f2c24dc27",
   "metadata": {},
   "outputs": [],
   "source": []
  }
 ],
 "metadata": {
  "kernelspec": {
   "display_name": "Python 3 (ipykernel)",
   "language": "python",
   "name": "python3"
  },
  "language_info": {
   "codemirror_mode": {
    "name": "ipython",
    "version": 3
   },
   "file_extension": ".py",
   "mimetype": "text/x-python",
   "name": "python",
   "nbconvert_exporter": "python",
   "pygments_lexer": "ipython3",
   "version": "3.12.4"
  }
 },
 "nbformat": 4,
 "nbformat_minor": 5
}
