{
 "cells": [
  {
   "cell_type": "markdown",
   "id": "fb41c7ce-e542-4c8c-b076-bc0f8ad82847",
   "metadata": {},
   "source": [
    "### Modelling to Predict the temperture using seasonal trends"
   ]
  },
  {
   "cell_type": "code",
   "execution_count": 12,
   "id": "0d378926-d04f-4476-88ff-f9f71900d7ec",
   "metadata": {},
   "outputs": [
    {
     "name": "stdout",
     "output_type": "stream",
     "text": [
      "SVR MAE: 0.0942397550816539\n",
      "SVR RMSE: 0.12280206175696354\n"
     ]
    }
   ],
   "source": [
    "from sklearn.svm import SVR\n",
    "\n",
    "svr_model = SVR(kernel='rbf', C=100, gamma=0.1)\n",
    "svr_model.fit(X_train, y_train)\n",
    "\n",
    "y_pred_svr = svr_model.predict(X_test)\n",
    "\n",
    "mae_svr = mean_absolute_error(y_test, y_pred_svr)\n",
    "rmse_svr = np.sqrt(mean_squared_error(y_test, y_pred_svr))\n",
    "print(f\"SVR MAE: {mae_svr}\")\n",
    "print(f\"SVR RMSE: {rmse_svr}\")"
   ]
  },
  {
   "cell_type": "code",
   "execution_count": 14,
   "id": "0320b74f-250f-43bd-beb1-5b06bd772354",
   "metadata": {},
   "outputs": [
    {
     "name": "stdout",
     "output_type": "stream",
     "text": [
      "Plot saved as svr_temperature_predictions.png\n"
     ]
    }
   ],
   "source": [
    "import matplotlib.pyplot as plt\n",
    "\n",
    "plt.figure(figsize=(12, 6))\n",
    "\n",
    "sorted_indices = np.argsort(X_test['Year'])\n",
    "X_test_sorted = X_test.iloc[sorted_indices]\n",
    "y_test_sorted = y_test.iloc[sorted_indices]\n",
    "y_pred_svr_sorted = y_pred_svr[sorted_indices]\n",
    "\n",
    "plt.plot(y_test_sorted.index, y_test_sorted, label=\"Actual Temperatures\", color=\"blue\", linewidth=2)\n",
    "plt.plot(y_test_sorted.index, y_pred_svr_sorted, label=\"Predicted Temperatures (SVR)\", color=\"red\", linestyle=\"--\", linewidth=2)\n",
    "\n",
    "plt.xlabel(\"Test Data Index\")\n",
    "plt.ylabel(\"Temperature (°C)\")\n",
    "plt.title(\"Actual vs Predicted Temperatures (SVR)\")\n",
    "plt.legend()\n",
    "plt.grid(True)\n",
    "\n",
    "plot_filename = \"svr_temperature_predictions.png\"\n",
    "plt.savefig(plot_filename, dpi=300)\n",
    "plt.close()\n",
    "print(f\"Plot saved as {plot_filename}\")"
   ]
  },
  {
   "cell_type": "markdown",
   "id": "46b07464-6549-4c66-b064-678b40168ed7",
   "metadata": {},
   "source": [
    "### Saving the model"
   ]
  },
  {
   "cell_type": "code",
   "execution_count": 16,
   "id": "d20e8aba-9066-42c2-952d-23665ff1490d",
   "metadata": {},
   "outputs": [
    {
     "name": "stdout",
     "output_type": "stream",
     "text": [
      "Model saved as svr_temperature_model.pkl\n"
     ]
    }
   ],
   "source": [
    "import pickle\n",
    "\n",
    "model_filename = \"svr_temperature_model.pkl\"\n",
    "with open(model_filename, \"wb\") as file:\n",
    "    pickle.dump(svr_model, file)\n",
    "print(f\"Model saved as {model_filename}\")"
   ]
  },
  {
   "cell_type": "code",
   "execution_count": null,
   "id": "ce1f97aa-df5f-433f-908a-a3ed7f920e04",
   "metadata": {},
   "outputs": [],
   "source": []
  }
 ],
 "metadata": {
  "kernelspec": {
   "display_name": "Python 3 (ipykernel)",
   "language": "python",
   "name": "python3"
  },
  "language_info": {
   "codemirror_mode": {
    "name": "ipython",
    "version": 3
   },
   "file_extension": ".py",
   "mimetype": "text/x-python",
   "name": "python",
   "nbconvert_exporter": "python",
   "pygments_lexer": "ipython3",
   "version": "3.12.4"
  }
 },
 "nbformat": 4,
 "nbformat_minor": 5
}
